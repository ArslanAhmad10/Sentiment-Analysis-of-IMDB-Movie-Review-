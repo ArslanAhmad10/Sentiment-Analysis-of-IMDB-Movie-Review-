{
 "cells": [
  {
   "cell_type": "code",
   "execution_count": 178,
   "id": "qualified-manufacturer",
   "metadata": {},
   "outputs": [
    {
     "name": "stderr",
     "output_type": "stream",
     "text": [
      "[nltk_data] Downloading package wordnet to\n",
      "[nltk_data]     C:\\Users\\HP\\AppData\\Roaming\\nltk_data...\n",
      "[nltk_data]   Package wordnet is already up-to-date!\n"
     ]
    }
   ],
   "source": [
    "import numpy as np\n",
    "import pandas as pd\n",
    "import seaborn as sns\n",
    "import matplotlib.pyplot as plt\n",
    "import nltk\n",
    "# from sklearn.feature_extraction.text import CountVectorizer\n",
    "from sklearn.feature_extraction.text import TfidfVectorizer\n",
    "from nltk.stem.porter import PorterStemmer\n",
    "from nltk.stem import WordNetLemmatizer\n",
    "from nltk.tokenize import RegexpTokenizer\n",
    "from sklearn.metrics import confusion_matrix,accuracy_score,precision_score,recall_score,f1_score,classification_report\n",
    "from sklearn.model_selection import train_test_split\n",
    "from sklearn.pipeline import Pipeline\n",
    "import neattext.functions as ntx\n",
    "nltk.download('wordnet')\n",
    "import warnings\n",
    "warnings.filterwarnings(\"ignore\")\n",
    "import re\n",
    "# !pip install neattext"
   ]
  },
  {
   "cell_type": "markdown",
   "id": "played-photography",
   "metadata": {},
   "source": [
    "# Read the dataset"
   ]
  },
  {
   "cell_type": "code",
   "execution_count": 179,
   "id": "concerned-departure",
   "metadata": {},
   "outputs": [
    {
     "data": {
      "text/html": [
       "<div>\n",
       "<style scoped>\n",
       "    .dataframe tbody tr th:only-of-type {\n",
       "        vertical-align: middle;\n",
       "    }\n",
       "\n",
       "    .dataframe tbody tr th {\n",
       "        vertical-align: top;\n",
       "    }\n",
       "\n",
       "    .dataframe thead th {\n",
       "        text-align: right;\n",
       "    }\n",
       "</style>\n",
       "<table border=\"1\" class=\"dataframe\">\n",
       "  <thead>\n",
       "    <tr style=\"text-align: right;\">\n",
       "      <th></th>\n",
       "      <th>review</th>\n",
       "      <th>sentiment</th>\n",
       "    </tr>\n",
       "  </thead>\n",
       "  <tbody>\n",
       "    <tr>\n",
       "      <th>0</th>\n",
       "      <td>This movie is just crap. Even though the direc...</td>\n",
       "      <td>0</td>\n",
       "    </tr>\n",
       "    <tr>\n",
       "      <th>1</th>\n",
       "      <td>Another detailed work on the subject by Dr Dwi...</td>\n",
       "      <td>1</td>\n",
       "    </tr>\n",
       "    <tr>\n",
       "      <th>2</th>\n",
       "      <td>THE CAT O'NINE TAILS (Il Gatto a Nove Code) &lt;b...</td>\n",
       "      <td>0</td>\n",
       "    </tr>\n",
       "    <tr>\n",
       "      <th>3</th>\n",
       "      <td>Like with any movie genre, there are good gang...</td>\n",
       "      <td>0</td>\n",
       "    </tr>\n",
       "    <tr>\n",
       "      <th>4</th>\n",
       "      <td>I watched it with my mom and we were like...&lt;b...</td>\n",
       "      <td>0</td>\n",
       "    </tr>\n",
       "  </tbody>\n",
       "</table>\n",
       "</div>"
      ],
      "text/plain": [
       "                                              review  sentiment\n",
       "0  This movie is just crap. Even though the direc...          0\n",
       "1  Another detailed work on the subject by Dr Dwi...          1\n",
       "2  THE CAT O'NINE TAILS (Il Gatto a Nove Code) <b...          0\n",
       "3  Like with any movie genre, there are good gang...          0\n",
       "4  I watched it with my mom and we were like...<b...          0"
      ]
     },
     "execution_count": 179,
     "metadata": {},
     "output_type": "execute_result"
    }
   ],
   "source": [
    "df = pd.read_csv(\"S:\\\\6th sem\\\\movie_data.csv\")\n",
    "df.head()"
   ]
  },
  {
   "cell_type": "code",
   "execution_count": 180,
   "id": "clear-formation",
   "metadata": {},
   "outputs": [
    {
     "data": {
      "text/plain": [
       "0       This movie is just crap. Even though the direc...\n",
       "1       Another detailed work on the subject by Dr Dwi...\n",
       "2       THE CAT O'NINE TAILS (Il Gatto a Nove Code) <b...\n",
       "3       Like with any movie genre, there are good gang...\n",
       "4       I watched it with my mom and we were like...<b...\n",
       "                              ...                        \n",
       "4994    Steve Biko was a black activist who tried to r...\n",
       "4995    I really enjoyed this movie. The acting by the...\n",
       "4996    the first Child's Play was an original and eff...\n",
       "4997    This is one of the most unoriginal, cliche-rid...\n",
       "4998    Can you say \"All shock, no plot?\" There were s...\n",
       "Name: review, Length: 4999, dtype: object"
      ]
     },
     "execution_count": 180,
     "metadata": {},
     "output_type": "execute_result"
    }
   ],
   "source": [
    "df['review']"
   ]
  },
  {
   "cell_type": "code",
   "execution_count": 181,
   "id": "least-universal",
   "metadata": {},
   "outputs": [],
   "source": [
    "def remove_Brackets(text):\n",
    "    return re.sub(\"\\(.*?\\)\",\"()\", text)"
   ]
  },
  {
   "cell_type": "markdown",
   "id": "continuous-omaha",
   "metadata": {},
   "source": [
    "# Text preprocessing"
   ]
  },
  {
   "cell_type": "code",
   "execution_count": 182,
   "id": "fifty-today",
   "metadata": {},
   "outputs": [
    {
     "data": {
      "text/plain": [
       "'begin movie bad thisdo mention cast unlikeable heroes overthetop acting dreadful scriptno pays money film poor needs head looking know respect poor guys saw little advance word mags like empire () cinemas start thinking giving refunds customer isnt happy finished producti went days opened mates person cinema bloke ownand cheap nighteither ad campaign failed dismally word spread country stinker isnot days avengers () felt short changed watching movie mate comes round video months sure pays electricity bill watching ittara fitzgerald deserves award cracking walking set keith allen retains dignity amid cinematic carnage barry foster arrested set performance rhys ifans career favours success notting hill dani behr halfway likeable busty secretarymind considering word viewers expectations acting ability pretty low begin withthe production values arent bad considering obviously limited budget script atrocious want hear bunch unlikeable characters fak couple hours right streetotherwise bargepoles required'"
      ]
     },
     "execution_count": 182,
     "metadata": {},
     "output_type": "execute_result"
    }
   ],
   "source": [
    "#removing hashtags\n",
    "df[\"cleaned_text\"] = df[\"review\"].apply(ntx.remove_hashtags)\n",
    "\n",
    "#removing userhandles\n",
    "df[\"cleaned_text\"] = df[\"cleaned_text\"].apply(lambda x: ntx.remove_userhandles(x))\n",
    "\n",
    "#removing newline and multiple spaces\n",
    "df = df.replace(r'\\\\n',' ', regex=True)\n",
    "df[\"cleaned_text\"] = df[\"cleaned_text\"].apply(ntx.remove_multiple_spaces)\n",
    "\n",
    "#removing urls and emojies\n",
    "df[\"cleaned_text\"] = df[\"cleaned_text\"].apply(ntx.remove_urls)\n",
    "df[\"cleaned_text\"] = df[\"cleaned_text\"].apply(ntx.remove_emojis)\n",
    "\n",
    "#removing punctuations\n",
    "df[\"cleaned_text\"] = df[\"cleaned_text\"].apply(ntx.remove_puncts)\n",
    "\n",
    "#to lowercase\n",
    "df[\"cleaned_text\"] = df['cleaned_text'].str.lower()\n",
    "\n",
    "#removing stop words\n",
    "df[\"cleaned_text\"] = df[\"cleaned_text\"].apply(ntx.remove_stopwords)\n",
    "# remove html tags\n",
    "df[\"cleaned_text\"] = df[\"cleaned_text\"].apply(ntx.remove_html_tags) \n",
    "\n",
    "# df[\"cleaned_text\"] = df[\"cleaned_text\"].apply(ntx) \n",
    "# def remove_Brackets(text):\n",
    "#     text = re.sub('<[^>]*>', '', text)\n",
    "#     return text\n",
    "\n",
    "df[\"cleaned_text\"] = df[\"cleaned_text\"].apply(remove_Brackets) \n",
    "# df[[\"review\",\"cleaned_text\"]]\n",
    "\n",
    "df[\"cleaned_text\"].iloc[4886]"
   ]
  },
  {
   "cell_type": "markdown",
   "id": "damaged-nashville",
   "metadata": {},
   "source": [
    "# sentiment Analysis"
   ]
  },
  {
   "cell_type": "code",
   "execution_count": 183,
   "id": "indian-engagement",
   "metadata": {},
   "outputs": [
    {
     "data": {
      "text/html": [
       "<div>\n",
       "<style scoped>\n",
       "    .dataframe tbody tr th:only-of-type {\n",
       "        vertical-align: middle;\n",
       "    }\n",
       "\n",
       "    .dataframe tbody tr th {\n",
       "        vertical-align: top;\n",
       "    }\n",
       "\n",
       "    .dataframe thead th {\n",
       "        text-align: right;\n",
       "    }\n",
       "</style>\n",
       "<table border=\"1\" class=\"dataframe\">\n",
       "  <thead>\n",
       "    <tr style=\"text-align: right;\">\n",
       "      <th></th>\n",
       "      <th>review</th>\n",
       "      <th>sentiment</th>\n",
       "      <th>cleaned_text</th>\n",
       "    </tr>\n",
       "  </thead>\n",
       "  <tbody>\n",
       "    <tr>\n",
       "      <th>0</th>\n",
       "      <td>This movie is just crap. Even though the direc...</td>\n",
       "      <td>0</td>\n",
       "      <td>movie crap directors claim oiculture bad direc...</td>\n",
       "    </tr>\n",
       "    <tr>\n",
       "      <th>1</th>\n",
       "      <td>Another detailed work on the subject by Dr Dwi...</td>\n",
       "      <td>1</td>\n",
       "      <td>detailed work subject dr dwivedi takes time pr...</td>\n",
       "    </tr>\n",
       "    <tr>\n",
       "      <th>2</th>\n",
       "      <td>THE CAT O'NINE TAILS (Il Gatto a Nove Code) &lt;b...</td>\n",
       "      <td>0</td>\n",
       "      <td>cat onine tails () aspect ratio: 235:1 ()sound...</td>\n",
       "    </tr>\n",
       "    <tr>\n",
       "      <th>3</th>\n",
       "      <td>Like with any movie genre, there are good gang...</td>\n",
       "      <td>0</td>\n",
       "      <td>like movie genre good gangster movies bad gang...</td>\n",
       "    </tr>\n",
       "    <tr>\n",
       "      <th>4</th>\n",
       "      <td>I watched it with my mom and we were like...&lt;b...</td>\n",
       "      <td>0</td>\n",
       "      <td>watched mom likewhat hell didnt wrong chair de...</td>\n",
       "    </tr>\n",
       "    <tr>\n",
       "      <th>...</th>\n",
       "      <td>...</td>\n",
       "      <td>...</td>\n",
       "      <td>...</td>\n",
       "    </tr>\n",
       "    <tr>\n",
       "      <th>4994</th>\n",
       "      <td>Steve Biko was a black activist who tried to r...</td>\n",
       "      <td>1</td>\n",
       "      <td>steve biko black activist tried resist white m...</td>\n",
       "    </tr>\n",
       "    <tr>\n",
       "      <th>4995</th>\n",
       "      <td>I really enjoyed this movie. The acting by the...</td>\n",
       "      <td>1</td>\n",
       "      <td>enjoyed movie acting adult actors great find m...</td>\n",
       "    </tr>\n",
       "    <tr>\n",
       "      <th>4996</th>\n",
       "      <td>the first Child's Play was an original and eff...</td>\n",
       "      <td>1</td>\n",
       "      <td>childs play original effective little horror m...</td>\n",
       "    </tr>\n",
       "    <tr>\n",
       "      <th>4997</th>\n",
       "      <td>This is one of the most unoriginal, cliche-rid...</td>\n",
       "      <td>0</td>\n",
       "      <td>unoriginal clicheridden movies seen didnt like...</td>\n",
       "    </tr>\n",
       "    <tr>\n",
       "      <th>4998</th>\n",
       "      <td>Can you say \"All shock, no plot?\" There were s...</td>\n",
       "      <td>0</td>\n",
       "      <td>shock plot unexplored directions movie history...</td>\n",
       "    </tr>\n",
       "  </tbody>\n",
       "</table>\n",
       "<p>4999 rows × 3 columns</p>\n",
       "</div>"
      ],
      "text/plain": [
       "                                                 review  sentiment  \\\n",
       "0     This movie is just crap. Even though the direc...          0   \n",
       "1     Another detailed work on the subject by Dr Dwi...          1   \n",
       "2     THE CAT O'NINE TAILS (Il Gatto a Nove Code) <b...          0   \n",
       "3     Like with any movie genre, there are good gang...          0   \n",
       "4     I watched it with my mom and we were like...<b...          0   \n",
       "...                                                 ...        ...   \n",
       "4994  Steve Biko was a black activist who tried to r...          1   \n",
       "4995  I really enjoyed this movie. The acting by the...          1   \n",
       "4996  the first Child's Play was an original and eff...          1   \n",
       "4997  This is one of the most unoriginal, cliche-rid...          0   \n",
       "4998  Can you say \"All shock, no plot?\" There were s...          0   \n",
       "\n",
       "                                           cleaned_text  \n",
       "0     movie crap directors claim oiculture bad direc...  \n",
       "1     detailed work subject dr dwivedi takes time pr...  \n",
       "2     cat onine tails () aspect ratio: 235:1 ()sound...  \n",
       "3     like movie genre good gangster movies bad gang...  \n",
       "4     watched mom likewhat hell didnt wrong chair de...  \n",
       "...                                                 ...  \n",
       "4994  steve biko black activist tried resist white m...  \n",
       "4995  enjoyed movie acting adult actors great find m...  \n",
       "4996  childs play original effective little horror m...  \n",
       "4997  unoriginal clicheridden movies seen didnt like...  \n",
       "4998  shock plot unexplored directions movie history...  \n",
       "\n",
       "[4999 rows x 3 columns]"
      ]
     },
     "execution_count": 183,
     "metadata": {},
     "output_type": "execute_result"
    }
   ],
   "source": [
    "df = df[[\"review\",\"sentiment\",\"cleaned_text\"]]\n",
    "# df = df.join(pd.json_normalize(df[\"sentiment\"]))    \n",
    "df"
   ]
  },
  {
   "cell_type": "code",
   "execution_count": 184,
   "id": "resistant-metropolitan",
   "metadata": {},
   "outputs": [
    {
     "name": "stdout",
     "output_type": "stream",
     "text": [
      "<class 'pandas.core.frame.DataFrame'>\n",
      "RangeIndex: 4999 entries, 0 to 4998\n",
      "Data columns (total 3 columns):\n",
      " #   Column        Non-Null Count  Dtype \n",
      "---  ------        --------------  ----- \n",
      " 0   review        4999 non-null   object\n",
      " 1   sentiment     4999 non-null   int64 \n",
      " 2   cleaned_text  4999 non-null   object\n",
      "dtypes: int64(1), object(2)\n",
      "memory usage: 117.3+ KB\n"
     ]
    }
   ],
   "source": [
    "df.info()"
   ]
  },
  {
   "cell_type": "code",
   "execution_count": 185,
   "id": "architectural-entity",
   "metadata": {},
   "outputs": [
    {
     "data": {
      "text/html": [
       "<div>\n",
       "<style scoped>\n",
       "    .dataframe tbody tr th:only-of-type {\n",
       "        vertical-align: middle;\n",
       "    }\n",
       "\n",
       "    .dataframe tbody tr th {\n",
       "        vertical-align: top;\n",
       "    }\n",
       "\n",
       "    .dataframe thead th {\n",
       "        text-align: right;\n",
       "    }\n",
       "</style>\n",
       "<table border=\"1\" class=\"dataframe\">\n",
       "  <thead>\n",
       "    <tr style=\"text-align: right;\">\n",
       "      <th></th>\n",
       "      <th>review</th>\n",
       "      <th>sentiment</th>\n",
       "      <th>cleaned_text</th>\n",
       "    </tr>\n",
       "  </thead>\n",
       "  <tbody>\n",
       "    <tr>\n",
       "      <th>0</th>\n",
       "      <td>This movie is just crap. Even though the direc...</td>\n",
       "      <td>Negative</td>\n",
       "      <td>movie crap directors claim oiculture bad direc...</td>\n",
       "    </tr>\n",
       "    <tr>\n",
       "      <th>1</th>\n",
       "      <td>Another detailed work on the subject by Dr Dwi...</td>\n",
       "      <td>Positive</td>\n",
       "      <td>detailed work subject dr dwivedi takes time pr...</td>\n",
       "    </tr>\n",
       "    <tr>\n",
       "      <th>2</th>\n",
       "      <td>THE CAT O'NINE TAILS (Il Gatto a Nove Code) &lt;b...</td>\n",
       "      <td>Negative</td>\n",
       "      <td>cat onine tails () aspect ratio: 235:1 ()sound...</td>\n",
       "    </tr>\n",
       "    <tr>\n",
       "      <th>3</th>\n",
       "      <td>Like with any movie genre, there are good gang...</td>\n",
       "      <td>Negative</td>\n",
       "      <td>like movie genre good gangster movies bad gang...</td>\n",
       "    </tr>\n",
       "    <tr>\n",
       "      <th>4</th>\n",
       "      <td>I watched it with my mom and we were like...&lt;b...</td>\n",
       "      <td>Negative</td>\n",
       "      <td>watched mom likewhat hell didnt wrong chair de...</td>\n",
       "    </tr>\n",
       "  </tbody>\n",
       "</table>\n",
       "</div>"
      ],
      "text/plain": [
       "                                              review sentiment  \\\n",
       "0  This movie is just crap. Even though the direc...  Negative   \n",
       "1  Another detailed work on the subject by Dr Dwi...  Positive   \n",
       "2  THE CAT O'NINE TAILS (Il Gatto a Nove Code) <b...  Negative   \n",
       "3  Like with any movie genre, there are good gang...  Negative   \n",
       "4  I watched it with my mom and we were like...<b...  Negative   \n",
       "\n",
       "                                        cleaned_text  \n",
       "0  movie crap directors claim oiculture bad direc...  \n",
       "1  detailed work subject dr dwivedi takes time pr...  \n",
       "2  cat onine tails () aspect ratio: 235:1 ()sound...  \n",
       "3  like movie genre good gangster movies bad gang...  \n",
       "4  watched mom likewhat hell didnt wrong chair de...  "
      ]
     },
     "execution_count": 185,
     "metadata": {},
     "output_type": "execute_result"
    }
   ],
   "source": [
    "df[\"sentiment\"] = df[\"sentiment\"].apply(lambda x : 'Positive' if x == 1 else 'Negative' )\n",
    "df.head()"
   ]
  },
  {
   "cell_type": "code",
   "execution_count": 186,
   "id": "ready-cylinder",
   "metadata": {},
   "outputs": [
    {
     "data": {
      "text/plain": [
       "Negative    2500\n",
       "Positive    2499\n",
       "Name: sentiment, dtype: int64"
      ]
     },
     "execution_count": 186,
     "metadata": {},
     "output_type": "execute_result"
    }
   ],
   "source": [
    "df['sentiment'].value_counts()"
   ]
  },
  {
   "cell_type": "code",
   "execution_count": 187,
   "id": "impossible-companion",
   "metadata": {},
   "outputs": [
    {
     "data": {
      "text/plain": [
       "<AxesSubplot:xlabel='sentiment', ylabel='count'>"
      ]
     },
     "execution_count": 187,
     "metadata": {},
     "output_type": "execute_result"
    },
    {
     "data": {
      "image/png": "[encoded data removed]",
      "text/plain": [
       "<Figure size 432x288 with 1 Axes>"
      ]
     },
     "metadata": {
      "needs_background": "light"
     },
     "output_type": "display_data"
    }
   ],
   "source": [
    "sns.countplot(df[\"sentiment\"])"
   ]
  },
  {
   "cell_type": "markdown",
   "id": "elder-fortune",
   "metadata": {},
   "source": [
    "Splitting The dataset"
   ]
  },
  {
   "cell_type": "code",
   "execution_count": 188,
   "id": "associate-retirement",
   "metadata": {},
   "outputs": [
    {
     "name": "stdout",
     "output_type": "stream",
     "text": [
      "(4000,) (4000,)\n",
      "(999,) (999,)\n"
     ]
    }
   ],
   "source": [
    "#split the dataset  \n",
    "#train dataset\n",
    "train_tweets=df.cleaned_text[:4000]\n",
    "train_sentiments=df.sentiment[:4000]\n",
    "#test dataset\n",
    "test_tweets=df.cleaned_text[4000:]\n",
    "test_sentiments=df.sentiment[4000:]\n",
    "print(train_tweets.shape,train_sentiments.shape)\n",
    "print(test_tweets.shape,test_sentiments.shape)"
   ]
  },
  {
   "cell_type": "markdown",
   "id": "conservative-pakistan",
   "metadata": {},
   "source": [
    "Tokenization"
   ]
  },
  {
   "cell_type": "code",
   "execution_count": 189,
   "id": "continent-cornell",
   "metadata": {},
   "outputs": [
    {
     "data": {
      "text/html": [
       "<div>\n",
       "<style scoped>\n",
       "    .dataframe tbody tr th:only-of-type {\n",
       "        vertical-align: middle;\n",
       "    }\n",
       "\n",
       "    .dataframe tbody tr th {\n",
       "        vertical-align: top;\n",
       "    }\n",
       "\n",
       "    .dataframe thead th {\n",
       "        text-align: right;\n",
       "    }\n",
       "</style>\n",
       "<table border=\"1\" class=\"dataframe\">\n",
       "  <thead>\n",
       "    <tr style=\"text-align: right;\">\n",
       "      <th></th>\n",
       "      <th>review</th>\n",
       "      <th>sentiment</th>\n",
       "      <th>cleaned_text</th>\n",
       "      <th>tokenized_tweet</th>\n",
       "    </tr>\n",
       "  </thead>\n",
       "  <tbody>\n",
       "    <tr>\n",
       "      <th>0</th>\n",
       "      <td>This movie is just crap. Even though the direc...</td>\n",
       "      <td>Negative</td>\n",
       "      <td>movie crap directors claim oiculture bad direc...</td>\n",
       "      <td>[movie, crap, directors, claim, oiculture, bad...</td>\n",
       "    </tr>\n",
       "    <tr>\n",
       "      <th>1</th>\n",
       "      <td>Another detailed work on the subject by Dr Dwi...</td>\n",
       "      <td>Positive</td>\n",
       "      <td>detailed work subject dr dwivedi takes time pr...</td>\n",
       "      <td>[detailed, work, subject, dr, dwivedi, takes, ...</td>\n",
       "    </tr>\n",
       "    <tr>\n",
       "      <th>2</th>\n",
       "      <td>THE CAT O'NINE TAILS (Il Gatto a Nove Code) &lt;b...</td>\n",
       "      <td>Negative</td>\n",
       "      <td>cat onine tails () aspect ratio: 235:1 ()sound...</td>\n",
       "      <td>[cat, onine, tails, aspect, ratio, 235, 1, sou...</td>\n",
       "    </tr>\n",
       "    <tr>\n",
       "      <th>3</th>\n",
       "      <td>Like with any movie genre, there are good gang...</td>\n",
       "      <td>Negative</td>\n",
       "      <td>like movie genre good gangster movies bad gang...</td>\n",
       "      <td>[like, movie, genre, good, gangster, movies, b...</td>\n",
       "    </tr>\n",
       "    <tr>\n",
       "      <th>4</th>\n",
       "      <td>I watched it with my mom and we were like...&lt;b...</td>\n",
       "      <td>Negative</td>\n",
       "      <td>watched mom likewhat hell didnt wrong chair de...</td>\n",
       "      <td>[watched, mom, likewhat, hell, didnt, wrong, c...</td>\n",
       "    </tr>\n",
       "  </tbody>\n",
       "</table>\n",
       "</div>"
      ],
      "text/plain": [
       "                                              review sentiment  \\\n",
       "0  This movie is just crap. Even though the direc...  Negative   \n",
       "1  Another detailed work on the subject by Dr Dwi...  Positive   \n",
       "2  THE CAT O'NINE TAILS (Il Gatto a Nove Code) <b...  Negative   \n",
       "3  Like with any movie genre, there are good gang...  Negative   \n",
       "4  I watched it with my mom and we were like...<b...  Negative   \n",
       "\n",
       "                                        cleaned_text  \\\n",
       "0  movie crap directors claim oiculture bad direc...   \n",
       "1  detailed work subject dr dwivedi takes time pr...   \n",
       "2  cat onine tails () aspect ratio: 235:1 ()sound...   \n",
       "3  like movie genre good gangster movies bad gang...   \n",
       "4  watched mom likewhat hell didnt wrong chair de...   \n",
       "\n",
       "                                     tokenized_tweet  \n",
       "0  [movie, crap, directors, claim, oiculture, bad...  \n",
       "1  [detailed, work, subject, dr, dwivedi, takes, ...  \n",
       "2  [cat, onine, tails, aspect, ratio, 235, 1, sou...  \n",
       "3  [like, movie, genre, good, gangster, movies, b...  \n",
       "4  [watched, mom, likewhat, hell, didnt, wrong, c...  "
      ]
     },
     "execution_count": 189,
     "metadata": {},
     "output_type": "execute_result"
    }
   ],
   "source": [
    "tokenizer = RegexpTokenizer(r'\\w+')\n",
    "\n",
    "df[\"tokenized_tweet\"] = df[\"cleaned_text\"].apply(lambda x: tokenizer.tokenize(x))\n",
    "df.head()"
   ]
  },
  {
   "cell_type": "markdown",
   "id": "personal-notion",
   "metadata": {},
   "source": [
    "Lemmatiztion"
   ]
  },
  {
   "cell_type": "code",
   "execution_count": 190,
   "id": "christian-arnold",
   "metadata": {},
   "outputs": [],
   "source": [
    "# lemmatizer = WordNetLemmatizer()\n",
    "\n",
    "# def word_lemmatizer(text):\n",
    "#     lemmatized_text = [lemmatizer.lemmatize(i) for i in text]\n",
    "#     return lemmatized_text\n",
    "\n",
    "# df[\"lemmatized_tweet\"] = df[\"tokenized_tweet\"].apply(lambda x: word_lemmatizer(x))\n",
    "\n",
    "# df\n",
    "\n",
    "# df[\"tokenized_tweet\"].iloc[100]\n",
    "\n",
    "# df[\"lemmatized_tweet\"].iloc[100]\n",
    "\n",
    "# 0.67 % accuracy\n",
    "# 0.84% on LR"
   ]
  },
  {
   "cell_type": "markdown",
   "id": "hollow-davis",
   "metadata": {},
   "source": [
    "stemming"
   ]
  },
  {
   "cell_type": "code",
   "execution_count": 191,
   "id": "minus-review",
   "metadata": {},
   "outputs": [],
   "source": [
    "def simple_stemmer(text):\n",
    "    ps=nltk.porter.PorterStemmer()\n",
    "    text= ' '.join([ps.stem(word) for word in text.split()])\n",
    "    return text\n",
    "#Apply function on review column\n",
    "df['review']=df['review'].apply(simple_stemmer)\n",
    "\n",
    "#0.69% accuracy"
   ]
  },
  {
   "cell_type": "markdown",
   "id": "sought-sympathy",
   "metadata": {},
   "source": [
    "K-fold validation method"
   ]
  },
  {
   "cell_type": "code",
   "execution_count": 198,
   "id": "twenty-rolling",
   "metadata": {},
   "outputs": [
    {
     "name": "stdout",
     "output_type": "stream",
     "text": [
      "Train: [1245 1246 1248 ... 4996 4997 4998] testing: [   0    1    2 ... 1255 1256 1258]\n",
      "Train: [   0    1    2 ... 4996 4997 4998] testing: [1245 1246 1248 ... 2525 2532 2533]\n",
      "Train: [   0    1    2 ... 4996 4997 4998] testing: [2470 2471 2473 ... 3757 3761 3762]\n",
      "Train: [   0    1    2 ... 3757 3761 3762] testing: [3737 3739 3740 ... 4996 4997 4998]\n"
     ]
    }
   ],
   "source": [
    "# from sklearn.model_selection import KFold\n",
    "# folds =  StratifiedKFold(n_splits=5)\n",
    "# k = 5\n",
    "# kf = KFold(n_splits=k, random_state=None)\n",
    "# kf\n",
    "from sklearn.model_selection import StratifiedKFold\n",
    "skf = StratifiedKFold(n_splits=4, random_state=None)\n",
    "# X is the feature set and y is the target\n",
    "for train_index, test_index in skf.split(df.cleaned_text,df.sentiment):\n",
    "    print(\"Train:\", train_index, \"testing:\", test_index)\n",
    "    X_train, X_test = df.cleaned_text[train_index], df.cleaned_text[test_index]\n",
    "    Y_train, Y_test = df.sentiment[train_index], df.sentiment[test_index]"
   ]
  },
  {
   "cell_type": "markdown",
   "id": "latest-warehouse",
   "metadata": {},
   "source": [
    "Test split method"
   ]
  },
  {
   "cell_type": "code",
   "execution_count": 199,
   "id": "helpful-awareness",
   "metadata": {},
   "outputs": [],
   "source": [
    "# features = df.cleaned_text\n",
    "# sentiment = df.sentiment\n",
    "# X_train,X_test,Y_train,Y_test = train_test_split(features,sentiment,test_size=0.2,random_state=42)"
   ]
  },
  {
   "cell_type": "code",
   "execution_count": 200,
   "id": "streaming-butterfly",
   "metadata": {},
   "outputs": [],
   "source": [
    "# from sklearn.model_selection import cross_val_score\n",
    "\n",
    "# # sentiment\n",
    "# X= df.cleaned_text\n",
    "# y= df.sentiment\n",
    "# model = LogisticRegression(solver= 'liblinear')\n",
    "\n",
    "# result = cross_val_score(model,X,y,cv=kf)\n",
    "# print(result)\n",
    "# # print(\"Avg accuracy: {}\".format(result.mean()))\n",
    "# # cross_val_score(LogisticRegression(),df.cleaned_text,df.sentiment, cv = kf)"
   ]
  },
  {
   "cell_type": "markdown",
   "id": "coordinate-emergency",
   "metadata": {},
   "source": [
    "Feature Extraction (TF/IDF) & ML model"
   ]
  },
  {
   "cell_type": "code",
   "execution_count": 201,
   "id": "divided-trainer",
   "metadata": {
    "scrolled": true
   },
   "outputs": [],
   "source": [
    "tvec1=TfidfVectorizer()\n",
    "\n",
    "#------ Decision Tree--------\n",
    "# from sklearn.tree import DecisionTreeClassifier\n",
    "# c1f3=DecisionTreeClassifier()\n",
    "\n",
    "#-------Logistic Regression-----\n",
    "from sklearn.linear_model import LogisticRegression\n",
    "logisticRegr = LogisticRegression()\n",
    "\n",
    "# #-------Random forest---------\n",
    "# from sklearn.ensemble import RandomForestClassifier\n",
    "# clf=RandomForestClassifier(n_estimators=100)\n",
    "\n",
    "# #-------Support Vector Machine(SVM)-------\n",
    "# from sklearn import svm\n",
    "# clf = svm.SVC()\n",
    "\n",
    "# #-------Gaussian Naive Bayes model--------\n",
    "# from sklearn.naive_bayes import GaussianNB\n",
    "# #Create a Gaussian Classifier\n",
    "# model = GaussianNB()\n",
    "\n",
    "model = Pipeline([(\"vectorizer\",tvec1),(\"classifier\",logisticRegr)])\n",
    "model.fit(X_train,Y_train)\n",
    "\n",
    "predictions=model.predict(X_test)\n",
    "# cf1=confusion_matrix(predictions,Y_test)"
   ]
  },
  {
   "cell_type": "code",
   "execution_count": 202,
   "id": "dental-logan",
   "metadata": {},
   "outputs": [
    {
     "name": "stdout",
     "output_type": "stream",
     "text": [
      "Accuracy 0.8486789431545236\n",
      "Precision 0.8496083205025557\n",
      "Recall 0.8486789431545236\n",
      "F1 Score 0.8487470671068144\n"
     ]
    }
   ],
   "source": [
    "print(\"Accuracy\",accuracy_score(predictions,Y_test))\n",
    "print(\"Precision\",precision_score(predictions,Y_test,average=\"weighted\"))\n",
    "print(\"Recall\",recall_score(predictions,Y_test,average=\"weighted\"))\n",
    "print(\"F1 Score\",f1_score(predictions,Y_test,average=\"weighted\"))"
   ]
  },
  {
   "cell_type": "code",
   "execution_count": 203,
   "id": "searching-edition",
   "metadata": {},
   "outputs": [
    {
     "name": "stdout",
     "output_type": "stream",
     "text": [
      "              precision    recall  f1-score   support\n",
      "\n",
      "    Negative       0.83      0.86      0.85       598\n",
      "    Positive       0.87      0.83      0.85       651\n",
      "\n",
      "    accuracy                           0.85      1249\n",
      "   macro avg       0.85      0.85      0.85      1249\n",
      "weighted avg       0.85      0.85      0.85      1249\n",
      "\n"
     ]
    }
   ],
   "source": [
    "print(classification_report(predictions,Y_test))"
   ]
  },
  {
   "cell_type": "markdown",
   "id": "alpha-change",
   "metadata": {},
   "source": [
    " Confusion Matrix"
   ]
  },
  {
   "cell_type": "code",
   "execution_count": 140,
   "id": "valuable-georgia",
   "metadata": {},
   "outputs": [
    {
     "name": "stdout",
     "output_type": "stream",
     "text": [
      "[[356 163]\n",
      " [153 328]]\n"
     ]
    }
   ],
   "source": [
    "from sklearn.metrics import confusion_matrix\n",
    "cm = confusion_matrix(predictions,Y_test)\n",
    "print(cm)"
   ]
  },
  {
   "cell_type": "markdown",
   "id": "fallen-victim",
   "metadata": {},
   "source": [
    "HeatMap"
   ]
  },
  {
   "cell_type": "code",
   "execution_count": 95,
   "id": "turkish-detection",
   "metadata": {},
   "outputs": [
    {
     "data": {
      "text/plain": [
       "<AxesSubplot:>"
      ]
     },
     "execution_count": 95,
     "metadata": {},
     "output_type": "execute_result"
    },
    {
     "data": {
      "image/png": "[encoded data removed]",
      "text/plain": [
       "<Figure size 432x288 with 2 Axes>"
      ]
     },
     "metadata": {
      "needs_background": "light"
     },
     "output_type": "display_data"
    }
   ],
   "source": [
    "cm_df = pd.DataFrame(cm,index=[\"Negative\",\"Positive\"],columns=[\"Negative\",\"Positive\"])\n",
    "sns.heatmap(cm_df, annot=True)"
   ]
  },
  {
   "cell_type": "code",
   "execution_count": 41,
   "id": "ranging-paragraph",
   "metadata": {},
   "outputs": [
    {
     "data": {
      "text/plain": [
       "array(['Negative'], dtype=object)"
      ]
     },
     "execution_count": 41,
     "metadata": {},
     "output_type": "execute_result"
    }
   ],
   "source": [
    "model.predict([\"movie was bad\"])"
   ]
  },
  {
   "cell_type": "code",
   "execution_count": null,
   "id": "indian-speaking",
   "metadata": {},
   "outputs": [],
   "source": []
  }
 ],
 "metadata": {
  "kernelspec": {
   "display_name": "Python 3",
   "language": "python",
   "name": "python3"
  },
  "language_info": {
   "codemirror_mode": {
    "name": "ipython",
    "version": 3
   },
   "file_extension": ".py",
   "mimetype": "text/x-python",
   "name": "python",
   "nbconvert_exporter": "python",
   "pygments_lexer": "ipython3",
   "version": "3.8.8"
  }
 },
 "nbformat": 4,
 "nbformat_minor": 5
}
